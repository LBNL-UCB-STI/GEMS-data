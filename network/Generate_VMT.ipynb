{
 "cells": [
  {
   "cell_type": "code",
   "execution_count": 1,
   "id": "62c3b74b-8371-409b-8411-d5d273b4b749",
   "metadata": {},
   "outputs": [],
   "source": [
    "import pandas as pd\n",
    "import numpy as np\n",
    "import geopandas as gpd\n",
    "from multiprocessing import Pool\n",
    "import time\n",
    "import os"
   ]
  },
  {
   "cell_type": "code",
   "execution_count": 2,
   "id": "9a6e5f39-0c11-4d5a-895c-146e847629d5",
   "metadata": {},
   "outputs": [],
   "source": [
    "# Set working directory\n",
    "working_directory = \"C:/FHWA_R2/Network\"\n",
    "os.chdir(working_directory)\n",
    "\n",
    "# Define global variables\n",
    "clean_data_folder = \"CleanData\"\n",
    "raw_data_folder = \"RawData\"\n",
    "hpms_folder = \"RawData/HPMS2017\"\n",
    "spatial_data = \"C:/FHWA_R2/spatial_boundary/CleanData\"\n",
    "demand_data = \"C:/FHWA_R2/Demand/CleanData\"\n",
    "output_date = \"2024\""
   ]
  },
  {
   "cell_type": "code",
   "execution_count": 3,
   "id": "9dc5233a-680a-4768-98d6-709e7537fd16",
   "metadata": {},
   "outputs": [],
   "source": [
    "# Functions\n",
    "def read_geojson_df(filename):\n",
    "    df = read_geojson(filename)\n",
    "    df2 = pd.DataFrame.from_dict(df['features'])\n",
    "    objects = [x for x in df2['properties']]\n",
    "    object_df = pd.DataFrame.from_dict(objects)\n",
    "    return object_df\n",
    "    \n",
    "def compile_state_data(hpms_folder,override=False):\n",
    "    if os.path.exists(\"hpms.csv\")&(override==False):\n",
    "        return pd.read_csv(\"hpms.csv\")\n",
    "    else:\n",
    "        # Read cleaned data from the sample\n",
    "        hpms_files = [file for file in os.listdir(hpms_folder) if file.endswith(\".geojson\")]\n",
    "        files_df = pd.DataFrame({\"filename\": hpms_files})\n",
    "        files_df.to_csv(\"files.csv\", index=False) \n",
    "        \n",
    "        obs = len(files_df)\n",
    "        \n",
    "        # Prepare data files\n",
    "        keep_cols = [\"f_system\",\"nhs\", \"through_la\", \"geoid\", \"aland\", \"awater\", \"urban_code\", \"length\",\"lanemiles\", \"route_id\", \"psr\", \"state_code\", \"iri\"]\n",
    "        \n",
    "        for i in range(obs):\n",
    "            file_path = os.path.join(hpms_folder, files_df.iloc[i][\"filename\"])\n",
    "            df = read_geojson_df(file_path)\n",
    "            df.columns = df.columns.str.lower()\n",
    "            these_cols = keep_cols.copy()\n",
    "            these_cols.extend(df.columns[df.columns.str.contains('aadt')])\n",
    "            these_cols.extend(df.columns[df.columns.str.contains('speed')])\n",
    "            these_cols.extend(df.columns[df.columns.str.contains( \"access_con\")])\n",
    " \n",
    "            # remove entries where link was merged to a diferent state (i.e., because it is on the border)\n",
    "            df.drop(df.loc[df.state_code.astype(int)!=df.statefp.astype(int)].index,inplace=True)\n",
    "\n",
    "            df = df[these_cols]\n",
    "            df['state'] = files_df.iloc[i][\"filename\"].split('2017')[0]\n",
    "            \n",
    "            save_path = f\"save{i}.csv\" \n",
    "            df.to_csv(save_path, index=False)\n",
    "\n",
    "        # Append files\n",
    "        hpms_df = pd.read_csv(\"save0.csv\") \n",
    "        for i in range(1, obs):\n",
    "            save_path = f\"save{i}.csv\" \n",
    "            temp_df = pd.read_csv(save_path)\n",
    "            hpms_df = pd.concat([hpms_df, temp_df], ignore_index=True)\n",
    "        \n",
    "        hpms_df.to_csv(\"hpms.csv\", index=False)\n",
    "        return hpms_df"
   ]
  },
  {
   "cell_type": "code",
   "execution_count": 4,
   "id": "70b3b632-e915-41d7-939d-4475f5724547",
   "metadata": {},
   "outputs": [
    {
     "name": "stderr",
     "output_type": "stream",
     "text": [
      "C:\\Users\\jrlazarus\\AppData\\Local\\Temp\\15\\ipykernel_29236\\2587672203.py:10: DtypeWarning: Columns (9) have mixed types. Specify dtype option on import or set low_memory=False.\n",
      "  return pd.read_csv(\"hpms.csv\")\n"
     ]
    }
   ],
   "source": [
    "# Load hpms data\n",
    "over_ride = False # set to True if you want to reload and save the hpms data even if it already exists, else False\n",
    "hpms_df = compile_state_data(hpms_folder,over_ride)"
   ]
  },
  {
   "cell_type": "code",
   "execution_count": 15,
   "id": "5716a49c-a44e-43aa-b280-4ce8ae99eade",
   "metadata": {},
   "outputs": [
    {
     "data": {
      "text/html": [
       "<div>\n",
       "<style scoped>\n",
       "    .dataframe tbody tr th:only-of-type {\n",
       "        vertical-align: middle;\n",
       "    }\n",
       "\n",
       "    .dataframe tbody tr th {\n",
       "        vertical-align: top;\n",
       "    }\n",
       "\n",
       "    .dataframe thead th {\n",
       "        text-align: right;\n",
       "    }\n",
       "</style>\n",
       "<table border=\"1\" class=\"dataframe\">\n",
       "  <thead>\n",
       "    <tr style=\"text-align: right;\">\n",
       "      <th></th>\n",
       "      <th>check_len</th>\n",
       "      <th>length</th>\n",
       "    </tr>\n",
       "  </thead>\n",
       "  <tbody>\n",
       "    <tr>\n",
       "      <th>count</th>\n",
       "      <td>7.410784e+06</td>\n",
       "      <td>7.410784e+06</td>\n",
       "    </tr>\n",
       "    <tr>\n",
       "      <th>mean</th>\n",
       "      <td>9.909818e-04</td>\n",
       "      <td>2.250074e+02</td>\n",
       "    </tr>\n",
       "    <tr>\n",
       "      <th>std</th>\n",
       "      <td>3.104836e-03</td>\n",
       "      <td>7.049686e+02</td>\n",
       "    </tr>\n",
       "    <tr>\n",
       "      <th>min</th>\n",
       "      <td>1.553694e-15</td>\n",
       "      <td>3.527741e-10</td>\n",
       "    </tr>\n",
       "    <tr>\n",
       "      <th>25%</th>\n",
       "      <td>2.886124e-04</td>\n",
       "      <td>6.553088e+01</td>\n",
       "    </tr>\n",
       "    <tr>\n",
       "      <th>50%</th>\n",
       "      <td>7.038926e-04</td>\n",
       "      <td>1.598223e+02</td>\n",
       "    </tr>\n",
       "    <tr>\n",
       "      <th>75%</th>\n",
       "      <td>7.092849e-04</td>\n",
       "      <td>1.610467e+02</td>\n",
       "    </tr>\n",
       "    <tr>\n",
       "      <th>max</th>\n",
       "      <td>4.103837e-01</td>\n",
       "      <td>9.317967e+04</td>\n",
       "    </tr>\n",
       "  </tbody>\n",
       "</table>\n",
       "</div>"
      ],
      "text/plain": [
       "          check_len        length\n",
       "count  7.410784e+06  7.410784e+06\n",
       "mean   9.909818e-04  2.250074e+02\n",
       "std    3.104836e-03  7.049686e+02\n",
       "min    1.553694e-15  3.527741e-10\n",
       "25%    2.886124e-04  6.553088e+01\n",
       "50%    7.038926e-04  1.598223e+02\n",
       "75%    7.092849e-04  1.610467e+02\n",
       "max    4.103837e-01  9.317967e+04"
      ]
     },
     "execution_count": 15,
     "metadata": {},
     "output_type": "execute_result"
    }
   ],
   "source": [
    "hpms_df['check_len'] = (hpms_df['lanemiles']/(hpms_df['through_la']*0.00062137))-hpms_df['length']\n",
    "hpms_df[['check_len','length']].describe()"
   ]
  },
  {
   "cell_type": "code",
   "execution_count": 32,
   "id": "6a58d2f0-0a8b-40a4-9af5-21d0c9a816b0",
   "metadata": {},
   "outputs": [],
   "source": [
    "# VMT\n",
    "# single-unit trucks (using AADT_Single_Unit), \n",
    "# combination trucks (using AADT_Combination), \n",
    "# light-duty vehicles (AADT - AADT_Single_Unit - AADT_Combination)\n",
    "hpms_df['vmt_single_unit'] = hpms_df['aadt_singl']*hpms_df['length']*0.00062137\n",
    "hpms_df['vmt_combi'] = hpms_df['aadt_combi']*hpms_df['length']*0.00062137\n",
    "hpms_df['aadt_ldv'] = (hpms_df['aadt']-hpms_df['aadt_combi']-hpms_df['aadt_singl'])\n",
    "hpms_df['vmt_ldv'] = (hpms_df['aadt_ldv'])*hpms_df['length']*0.00062137*(hpms_df['aadt_ldv']>0).astype(int)\n"
   ]
  },
  {
   "cell_type": "code",
   "execution_count": 33,
   "id": "014eff2c-fdc9-4360-9841-e80c38ab7f35",
   "metadata": {},
   "outputs": [
    {
     "data": {
      "text/html": [
       "<div>\n",
       "<style scoped>\n",
       "    .dataframe tbody tr th:only-of-type {\n",
       "        vertical-align: middle;\n",
       "    }\n",
       "\n",
       "    .dataframe tbody tr th {\n",
       "        vertical-align: top;\n",
       "    }\n",
       "\n",
       "    .dataframe thead th {\n",
       "        text-align: right;\n",
       "    }\n",
       "</style>\n",
       "<table border=\"1\" class=\"dataframe\">\n",
       "  <thead>\n",
       "    <tr style=\"text-align: right;\">\n",
       "      <th></th>\n",
       "      <th>aadt_ldv</th>\n",
       "      <th>vmt_single_unit</th>\n",
       "      <th>vmt_combi</th>\n",
       "      <th>vmt_ldv</th>\n",
       "    </tr>\n",
       "  </thead>\n",
       "  <tbody>\n",
       "    <tr>\n",
       "      <th>count</th>\n",
       "      <td>7.410784e+06</td>\n",
       "      <td>7.410784e+06</td>\n",
       "      <td>7.410784e+06</td>\n",
       "      <td>7.410784e+06</td>\n",
       "    </tr>\n",
       "    <tr>\n",
       "      <th>mean</th>\n",
       "      <td>1.161144e+04</td>\n",
       "      <td>3.115178e+01</td>\n",
       "      <td>5.454209e+01</td>\n",
       "      <td>9.306741e+02</td>\n",
       "    </tr>\n",
       "    <tr>\n",
       "      <th>std</th>\n",
       "      <td>2.257766e+04</td>\n",
       "      <td>9.060429e+01</td>\n",
       "      <td>1.801944e+02</td>\n",
       "      <td>2.104510e+03</td>\n",
       "    </tr>\n",
       "    <tr>\n",
       "      <th>min</th>\n",
       "      <td>-2.091320e+05</td>\n",
       "      <td>0.000000e+00</td>\n",
       "      <td>0.000000e+00</td>\n",
       "      <td>-0.000000e+00</td>\n",
       "    </tr>\n",
       "    <tr>\n",
       "      <th>25%</th>\n",
       "      <td>1.569000e+03</td>\n",
       "      <td>0.000000e+00</td>\n",
       "      <td>0.000000e+00</td>\n",
       "      <td>8.895249e+01</td>\n",
       "    </tr>\n",
       "    <tr>\n",
       "      <th>50%</th>\n",
       "      <td>4.600000e+03</td>\n",
       "      <td>5.941865e+00</td>\n",
       "      <td>4.097947e+00</td>\n",
       "      <td>2.952592e+02</td>\n",
       "    </tr>\n",
       "    <tr>\n",
       "      <th>75%</th>\n",
       "      <td>1.240000e+04</td>\n",
       "      <td>2.787927e+01</td>\n",
       "      <td>2.827424e+01</td>\n",
       "      <td>8.946174e+02</td>\n",
       "    </tr>\n",
       "    <tr>\n",
       "      <th>max</th>\n",
       "      <td>4.301430e+05</td>\n",
       "      <td>8.279186e+04</td>\n",
       "      <td>7.929575e+04</td>\n",
       "      <td>4.748364e+05</td>\n",
       "    </tr>\n",
       "  </tbody>\n",
       "</table>\n",
       "</div>"
      ],
      "text/plain": [
       "           aadt_ldv  vmt_single_unit     vmt_combi       vmt_ldv\n",
       "count  7.410784e+06     7.410784e+06  7.410784e+06  7.410784e+06\n",
       "mean   1.161144e+04     3.115178e+01  5.454209e+01  9.306741e+02\n",
       "std    2.257766e+04     9.060429e+01  1.801944e+02  2.104510e+03\n",
       "min   -2.091320e+05     0.000000e+00  0.000000e+00 -0.000000e+00\n",
       "25%    1.569000e+03     0.000000e+00  0.000000e+00  8.895249e+01\n",
       "50%    4.600000e+03     5.941865e+00  4.097947e+00  2.952592e+02\n",
       "75%    1.240000e+04     2.787927e+01  2.827424e+01  8.946174e+02\n",
       "max    4.301430e+05     8.279186e+04  7.929575e+04  4.748364e+05"
      ]
     },
     "execution_count": 33,
     "metadata": {},
     "output_type": "execute_result"
    }
   ],
   "source": [
    "hpms_df[['aadt_ldv','vmt_single_unit','vmt_combi','vmt_ldv']].describe()"
   ]
  },
  {
   "cell_type": "code",
   "execution_count": 35,
   "id": "122c53e8-889e-43a6-97fa-aa01bc856854",
   "metadata": {},
   "outputs": [
    {
     "data": {
      "text/html": [
       "<div>\n",
       "<style scoped>\n",
       "    .dataframe tbody tr th:only-of-type {\n",
       "        vertical-align: middle;\n",
       "    }\n",
       "\n",
       "    .dataframe tbody tr th {\n",
       "        vertical-align: top;\n",
       "    }\n",
       "\n",
       "    .dataframe thead th {\n",
       "        text-align: right;\n",
       "    }\n",
       "</style>\n",
       "<table border=\"1\" class=\"dataframe\">\n",
       "  <thead>\n",
       "    <tr style=\"text-align: right;\">\n",
       "      <th></th>\n",
       "      <th>f_system</th>\n",
       "      <th>nhs</th>\n",
       "      <th>through_la</th>\n",
       "      <th>length</th>\n",
       "      <th>geoid</th>\n",
       "      <th>urban_code</th>\n",
       "      <th>aadt</th>\n",
       "      <th>aadt_singl</th>\n",
       "      <th>aadt_combi</th>\n",
       "      <th>aadt_ldv</th>\n",
       "      <th>vmt_ldv</th>\n",
       "    </tr>\n",
       "  </thead>\n",
       "  <tbody>\n",
       "    <tr>\n",
       "      <th>426659</th>\n",
       "      <td>3.0</td>\n",
       "      <td>0.0</td>\n",
       "      <td>2.0</td>\n",
       "      <td>160.886934</td>\n",
       "      <td>6111009500</td>\n",
       "      <td>79282.0</td>\n",
       "      <td>610.0</td>\n",
       "      <td>1021.0</td>\n",
       "      <td>21.0</td>\n",
       "      <td>-432.0</td>\n",
       "      <td>-0.0</td>\n",
       "    </tr>\n",
       "    <tr>\n",
       "      <th>426661</th>\n",
       "      <td>3.0</td>\n",
       "      <td>0.0</td>\n",
       "      <td>2.0</td>\n",
       "      <td>40.454998</td>\n",
       "      <td>6111009500</td>\n",
       "      <td>79282.0</td>\n",
       "      <td>610.0</td>\n",
       "      <td>1021.0</td>\n",
       "      <td>21.0</td>\n",
       "      <td>-432.0</td>\n",
       "      <td>-0.0</td>\n",
       "    </tr>\n",
       "    <tr>\n",
       "      <th>426674</th>\n",
       "      <td>3.0</td>\n",
       "      <td>0.0</td>\n",
       "      <td>2.0</td>\n",
       "      <td>117.850273</td>\n",
       "      <td>6111009500</td>\n",
       "      <td>79282.0</td>\n",
       "      <td>610.0</td>\n",
       "      <td>1021.0</td>\n",
       "      <td>21.0</td>\n",
       "      <td>-432.0</td>\n",
       "      <td>-0.0</td>\n",
       "    </tr>\n",
       "    <tr>\n",
       "      <th>431294</th>\n",
       "      <td>1.0</td>\n",
       "      <td>1.0</td>\n",
       "      <td>2.0</td>\n",
       "      <td>1.558373</td>\n",
       "      <td>6073017022</td>\n",
       "      <td>78661.0</td>\n",
       "      <td>0.0</td>\n",
       "      <td>65.0</td>\n",
       "      <td>169.0</td>\n",
       "      <td>-234.0</td>\n",
       "      <td>-0.0</td>\n",
       "    </tr>\n",
       "    <tr>\n",
       "      <th>431296</th>\n",
       "      <td>1.0</td>\n",
       "      <td>1.0</td>\n",
       "      <td>2.0</td>\n",
       "      <td>1512.819922</td>\n",
       "      <td>6073017022</td>\n",
       "      <td>78661.0</td>\n",
       "      <td>0.0</td>\n",
       "      <td>4252.0</td>\n",
       "      <td>4074.0</td>\n",
       "      <td>-8326.0</td>\n",
       "      <td>-0.0</td>\n",
       "    </tr>\n",
       "  </tbody>\n",
       "</table>\n",
       "</div>"
      ],
      "text/plain": [
       "        f_system  nhs  through_la       length       geoid  urban_code   aadt  \\\n",
       "426659       3.0  0.0         2.0   160.886934  6111009500     79282.0  610.0   \n",
       "426661       3.0  0.0         2.0    40.454998  6111009500     79282.0  610.0   \n",
       "426674       3.0  0.0         2.0   117.850273  6111009500     79282.0  610.0   \n",
       "431294       1.0  1.0         2.0     1.558373  6073017022     78661.0    0.0   \n",
       "431296       1.0  1.0         2.0  1512.819922  6073017022     78661.0    0.0   \n",
       "\n",
       "        aadt_singl  aadt_combi  aadt_ldv  vmt_ldv  \n",
       "426659      1021.0        21.0    -432.0     -0.0  \n",
       "426661      1021.0        21.0    -432.0     -0.0  \n",
       "426674      1021.0        21.0    -432.0     -0.0  \n",
       "431294        65.0       169.0    -234.0     -0.0  \n",
       "431296      4252.0      4074.0   -8326.0     -0.0  "
      ]
     },
     "execution_count": 35,
     "metadata": {},
     "output_type": "execute_result"
    }
   ],
   "source": [
    "hpms_df.loc[hpms_df.aadt_ldv <0, ['f_system', 'nhs', 'through_la', 'length','geoid',\n",
    "       'urban_code','aadt','aadt_singl','aadt_combi','aadt_ldv','vmt_ldv']].head()"
   ]
  },
  {
   "cell_type": "code",
   "execution_count": 36,
   "id": "f34a3bf3-4e25-4585-a768-610ac2c41470",
   "metadata": {},
   "outputs": [
    {
     "data": {
      "text/plain": [
       "<Axes: title={'center': 'vmt_single_unit'}, xlabel='f_system'>"
      ]
     },
     "execution_count": 36,
     "metadata": {},
     "output_type": "execute_result"
    },
    {
     "data": {
      "image/png": "[encoded data removed]",
      "text/plain": [
       "<Figure size 640x480 with 1 Axes>"
      ]
     },
     "metadata": {},
     "output_type": "display_data"
    }
   ],
   "source": [
    "hpms_df[['f_system','vmt_single_unit']].boxplot('vmt_single_unit',by='f_system')"
   ]
  },
  {
   "cell_type": "code",
   "execution_count": 37,
   "id": "924299ac-801e-45e2-9d3c-7430e4dd7bfa",
   "metadata": {},
   "outputs": [
    {
     "data": {
      "text/plain": [
       "<Axes: title={'center': 'vmt_combi'}, xlabel='f_system'>"
      ]
     },
     "execution_count": 37,
     "metadata": {},
     "output_type": "execute_result"
    },
    {
     "data": {
      "image/png": "[encoded data removed]",
      "text/plain": [
       "<Figure size 640x480 with 1 Axes>"
      ]
     },
     "metadata": {},
     "output_type": "display_data"
    }
   ],
   "source": [
    "hpms_df[['f_system','vmt_combi']].boxplot('vmt_combi',by='f_system')"
   ]
  },
  {
   "cell_type": "code",
   "execution_count": 38,
   "id": "9c750ed5-7c22-4b61-94b4-40df48150b67",
   "metadata": {},
   "outputs": [
    {
     "data": {
      "text/plain": [
       "<Axes: title={'center': 'vmt_ldv'}, xlabel='f_system'>"
      ]
     },
     "execution_count": 38,
     "metadata": {},
     "output_type": "execute_result"
    },
    {
     "data": {
      "image/png": "[encoded data removed]",
      "text/plain": [
       "<Figure size 640x480 with 1 Axes>"
      ]
     },
     "metadata": {},
     "output_type": "display_data"
    }
   ],
   "source": [
    "hpms_df[['f_system','vmt_ldv']].boxplot('vmt_ldv',by='f_system')"
   ]
  },
  {
   "cell_type": "code",
   "execution_count": 43,
   "id": "1adc5cbb-4d8a-4b5b-b4d7-0756bb4f9034",
   "metadata": {},
   "outputs": [
    {
     "data": {
      "text/plain": [
       "Index(['f_system', 'nhs', 'through_la', 'geoid', 'aland', 'awater',\n",
       "       'urban_code', 'length', 'lanemiles', 'route_id', 'psr', 'state_code',\n",
       "       'iri', 'aadt', 'aadt_singl', 'aadt_combi', 'speed_limi', 'access_con',\n",
       "       'state', 'vmt_single_unit', 'vmt_combi', 'vmt_ldv', 'check_len',\n",
       "       'aadt_ldv', 'vmt_single_unit_f1', 'vmt_combi_f1', 'vmt_ldv_f1',\n",
       "       'vmt_single_unit_f2', 'vmt_combi_f2', 'vmt_ldv_f2',\n",
       "       'vmt_single_unit_f3', 'vmt_combi_f3', 'vmt_ldv_f3',\n",
       "       'vmt_single_unit_f4', 'vmt_combi_f4', 'vmt_ldv_f4',\n",
       "       'vmt_single_unit_f5', 'vmt_combi_f5', 'vmt_ldv_f5',\n",
       "       'vmt_single_unit_f6', 'vmt_combi_f6', 'vmt_ldv_f6',\n",
       "       'vmt_single_unit_f7', 'vmt_combi_f7', 'vmt_ldv_f7'],\n",
       "      dtype='object')"
      ]
     },
     "execution_count": 43,
     "metadata": {},
     "output_type": "execute_result"
    }
   ],
   "source": [
    "for f in [1,2,3,4,5,6,7]:\n",
    "    for c in ['vmt_single_unit', 'vmt_combi', 'vmt_ldv']:\n",
    "        hpms_df[f'{c}_f{f}'] = hpms_df[f'{c}']*(hpms_df['f_system']==f).astype(int)\n",
    "hpms_df.columns"
   ]
  },
  {
   "cell_type": "code",
   "execution_count": 44,
   "id": "3574aa74-ec16-41c8-8c41-dd187ad50e88",
   "metadata": {},
   "outputs": [
    {
     "name": "stdout",
     "output_type": "stream",
     "text": [
      "(7410784, 45)\n"
     ]
    },
    {
     "data": {
      "text/plain": [
       "(83612, 26)"
      ]
     },
     "execution_count": 44,
     "metadata": {},
     "output_type": "execute_result"
    }
   ],
   "source": [
    "print(hpms_df.shape)\n",
    "final_df = hpms_df.rename(columns={'geoid': 'tract'})[['tract','state','vmt_single_unit', 'vmt_combi', 'vmt_ldv','vmt_single_unit_f1', 'vmt_combi_f1', 'vmt_ldv_f1',\n",
    "       'vmt_single_unit_f2', 'vmt_combi_f2', 'vmt_ldv_f2',\n",
    "       'vmt_single_unit_f3', 'vmt_combi_f3', 'vmt_ldv_f3',\n",
    "       'vmt_single_unit_f4', 'vmt_combi_f4', 'vmt_ldv_f4',\n",
    "       'vmt_single_unit_f5', 'vmt_combi_f5', 'vmt_ldv_f5',\n",
    "       'vmt_single_unit_f6', 'vmt_combi_f6', 'vmt_ldv_f6',\n",
    "       'vmt_single_unit_f7', 'vmt_combi_f7', 'vmt_ldv_f7']].groupby(\n",
    "    ['tract', 'state']).sum().reset_index()\n",
    "final_df.shape"
   ]
  },
  {
   "cell_type": "code",
   "execution_count": 46,
   "id": "f72763e7-b930-49ef-9959-3a9c20bc5597",
   "metadata": {},
   "outputs": [],
   "source": [
    "final_df.to_csv(f'{clean_data_folder}/hpms_vmt_f_system.csv')"
   ]
  },
  {
   "cell_type": "code",
   "execution_count": null,
   "id": "f300ab7b-f866-4e62-afd7-787cc63e9cfe",
   "metadata": {},
   "outputs": [],
   "source": []
  }
 ],
 "metadata": {
  "kernelspec": {
   "display_name": "Python 3 (ipykernel)",
   "language": "python",
   "name": "python3"
  },
  "language_info": {
   "codemirror_mode": {
    "name": "ipython",
    "version": 3
   },
   "file_extension": ".py",
   "mimetype": "text/x-python",
   "name": "python",
   "nbconvert_exporter": "python",
   "pygments_lexer": "ipython3",
   "version": "3.11.5"
  }
 },
 "nbformat": 4,
 "nbformat_minor": 5
}
